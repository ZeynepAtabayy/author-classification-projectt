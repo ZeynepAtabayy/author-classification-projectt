{
 "cells": [
  {
   "cell_type": "code",
   "execution_count": 30,
   "id": "4bab0997",
   "metadata": {},
   "outputs": [],
   "source": [
    "import os\n",
    "import re\n",
    "import numpy as np\n",
    "import pandas as pd\n",
    "import matplotlib.pyplot as plt\n",
    "import seaborn as sns\n",
    "from sklearn.model_selection import train_test_split\n",
    "from sklearn.preprocessing import LabelEncoder\n",
    "from sklearn.metrics import accuracy_score, precision_score, recall_score, f1_score, classification_report\n",
    "from sklearn.feature_extraction.text import TfidfVectorizer"
   ]
  },
  {
   "cell_type": "code",
   "execution_count": 31,
   "id": "ae803178",
   "metadata": {},
   "outputs": [],
   "source": [
    "from nltk.corpus import stopwords\n",
    "import nltk\n",
    "#nltk.download(\"stopwords\")\n",
    "#nltk_stopwords = set(stopwords.words(\"turkish\"))\n",
    "\n",
    "def clean_text(text):\n",
    "    text = re.sub(r\"\\s+\", \" \", text)\n",
    "    text = re.sub(r\"[^a-zA-ZçÇğĞıİöÖşŞüÜ ]\", \"\", text)\n",
    "    text = text.lower()\n",
    "    text = re.sub(r\"[^\\w\\s]\", \"\", text)\n",
    "    text = re.sub(r\"\\d+\", \"\", text)\n",
    "    text = text.replace(\"i̇\", \"i\")\n",
    "    #text = \" \".join([word for word in text.split() if word not in nltk_stopwords])\n",
    "    return text\n"
   ]
  },
  {
   "cell_type": "code",
   "execution_count": 32,
   "id": "528eb47e",
   "metadata": {},
   "outputs": [],
   "source": [
    "main_folder = r\"C:\\\\Users\\\\YUCE037\\\\Downloads\\\\AAydintasbas\"\n",
    "texts = []\n",
    "labels = []\n",
    "\n",
    "for author_folder in os.listdir(main_folder):\n",
    "    author_path = os.path.join(main_folder, author_folder)\n",
    "    if os.path.isdir(author_path):\n",
    "        for txt_file in os.listdir(author_path):\n",
    "            file_path = os.path.join(author_path, txt_file)\n",
    "            if file_path.endswith(\".txt\"):\n",
    "                with open(file_path, \"r\", encoding=\"utf-8\") as f:\n",
    "                    raw_text = f.read()\n",
    "                    cleaned = clean_text(raw_text)\n",
    "                    texts.append(cleaned)\n",
    "                    labels.append(author_folder)"
   ]
  },
  {
   "cell_type": "code",
   "execution_count": 33,
   "id": "a9c1d440",
   "metadata": {},
   "outputs": [],
   "source": [
    "le = LabelEncoder()\n",
    "y_encoded = le.fit_transform(labels)\n",
    "X_train_texts, X_test_texts, y_train, y_test = train_test_split(texts, y_encoded, test_size=0.2, random_state=42, stratify=y_encoded)"
   ]
  },
  {
   "cell_type": "code",
   "execution_count": 34,
   "id": "1d6c6591",
   "metadata": {},
   "outputs": [],
   "source": [
    "vectorizer_2gram = TfidfVectorizer(ngram_range=(2, 2), max_features=10000, min_df=2)\n",
    "X_train_2gram = vectorizer_2gram.fit_transform(X_train_texts)\n",
    "X_test_2gram = vectorizer_2gram.transform(X_test_texts)"
   ]
  },
  {
   "cell_type": "code",
   "execution_count": 35,
   "id": "fe4707ab",
   "metadata": {},
   "outputs": [],
   "source": [
    "vectorizer_3gram = TfidfVectorizer(ngram_range=(3, 3), max_features=10000, min_df=2)\n",
    "X_train_3gram = vectorizer_3gram.fit_transform(X_train_texts)\n",
    "X_test_3gram = vectorizer_3gram.transform(X_test_texts)"
   ]
  },
  {
   "cell_type": "code",
   "execution_count": null,
   "id": "4108abb2",
   "metadata": {},
   "outputs": [],
   "source": [
    "results = []\n",
    "\n",
    "def print_result(model_name, feature_type, y_true, y_pred):\n",
    "    acc = accuracy_score(y_true, y_pred)\n",
    "    prec = precision_score(y_true, y_pred, average=\"macro\")\n",
    "    rec = recall_score(y_true, y_pred, average=\"macro\")\n",
    "    f1 = f1_score(y_true, y_pred, average=\"macro\")\n",
    "    results.append({\"model\": model_name, \"feature\": feature_type, \"accuracy\": acc, \"precision\": prec, \"recall\": rec, \"f1\": f1})\n",
    "    print(f\"\\n {model_name} | Feature: {feature_type}\")\n",
    "    print(f\"Accuracy:  {acc:.4f}\")\n",
    "    print(f\"Precision: {prec:.4f}\")\n",
    "    print(f\"Recall:    {rec:.4f}\")\n",
    "    print(f\"F1-score:  {f1:.4f}\\n\")\n",
    "    print(classification_report(y_true, y_pred, target_names=le.classes_))"
   ]
  },
  {
   "cell_type": "code",
   "execution_count": 37,
   "id": "633eba45",
   "metadata": {},
   "outputs": [
    {
     "name": "stdout",
     "output_type": "stream",
     "text": [
      "\n",
      "📌 SVM | Feature: 2-gram\n",
      "Accuracy:  0.6696\n",
      "Precision: 0.7055\n",
      "Recall:    0.6696\n",
      "F1-score:  0.6712\n",
      "\n",
      "              precision    recall  f1-score   support\n",
      "\n",
      "      AAltan       1.00      0.88      0.93         8\n",
      "AAydintasbas       0.86      0.75      0.80         8\n",
      "      AHakan       0.78      0.88      0.82         8\n",
      " ATuranAlkan       0.50      0.50      0.50         8\n",
      "    AYArslan       1.00      0.88      0.93         8\n",
      "     BCoskun       0.38      0.38      0.38         8\n",
      "     CCandar       0.75      0.38      0.50         8\n",
      "    COzdemir       0.75      0.75      0.75         8\n",
      "  DCundioglu       0.89      1.00      0.94         8\n",
      "  DUAribogan       0.78      0.88      0.82         8\n",
      "      EArdic       0.50      0.50      0.50         8\n",
      "      ECakir       0.50      0.50      0.50         8\n",
      "    GGokturk       0.36      0.50      0.42         8\n",
      "   HBabaoglu       0.57      0.50      0.53         8\n",
      "      HCemal       0.86      0.75      0.80         8\n",
      "       HUluc       0.47      0.88      0.61         8\n",
      "  IKucukkaya       0.83      0.62      0.71         8\n",
      "    MABirand       0.80      1.00      0.89         8\n",
      "    MBaransu       1.00      0.88      0.93         8\n",
      "     MBarlas       1.00      0.38      0.55         8\n",
      "     MNHazar       1.00      0.75      0.86         8\n",
      "  MTonbekici       0.50      0.75      0.60         8\n",
      "    NBKaraca       0.33      0.38      0.35         8\n",
      "     NIlicak       0.40      0.25      0.31         8\n",
      "     SOzisik       0.86      0.75      0.80         8\n",
      "      TAkyol       0.43      0.75      0.55         8\n",
      "     YCongar       1.00      0.88      0.93         8\n",
      "      YOzdil       0.67      0.50      0.57         8\n",
      "\n",
      "    accuracy                           0.67       224\n",
      "   macro avg       0.71      0.67      0.67       224\n",
      "weighted avg       0.71      0.67      0.67       224\n",
      "\n"
     ]
    }
   ],
   "source": [
    "from sklearn.svm import SVC\n",
    "svm = SVC(kernel=\"linear\")\n",
    "svm.fit(X_train_2gram, y_train)\n",
    "print_result(\"SVM\", \"2-gram\", y_test, svm.predict(X_test_2gram))"
   ]
  },
  {
   "cell_type": "code",
   "execution_count": 38,
   "id": "69765dfa",
   "metadata": {},
   "outputs": [
    {
     "name": "stdout",
     "output_type": "stream",
     "text": [
      "\n",
      "📌 Random Forest | Feature: 2-gram\n",
      "Accuracy:  0.5089\n",
      "Precision: 0.5843\n",
      "Recall:    0.5089\n",
      "F1-score:  0.5136\n",
      "\n",
      "              precision    recall  f1-score   support\n",
      "\n",
      "      AAltan       0.57      0.50      0.53         8\n",
      "AAydintasbas       0.83      0.62      0.71         8\n",
      "      AHakan       0.50      0.50      0.50         8\n",
      " ATuranAlkan       0.40      0.25      0.31         8\n",
      "    AYArslan       0.88      0.88      0.88         8\n",
      "     BCoskun       0.10      0.12      0.11         8\n",
      "     CCandar       0.83      0.62      0.71         8\n",
      "    COzdemir       0.57      0.50      0.53         8\n",
      "  DCundioglu       0.89      1.00      0.94         8\n",
      "  DUAribogan       0.75      0.75      0.75         8\n",
      "      EArdic       0.33      0.12      0.18         8\n",
      "      ECakir       0.29      0.25      0.27         8\n",
      "    GGokturk       1.00      0.25      0.40         8\n",
      "   HBabaoglu       0.44      0.50      0.47         8\n",
      "      HCemal       0.33      0.25      0.29         8\n",
      "       HUluc       0.50      0.75      0.60         8\n",
      "  IKucukkaya       0.50      0.25      0.33         8\n",
      "    MABirand       0.70      0.88      0.78         8\n",
      "    MBaransu       0.83      0.62      0.71         8\n",
      "     MBarlas       0.71      0.62      0.67         8\n",
      "     MNHazar       0.60      0.38      0.46         8\n",
      "  MTonbekici       0.75      0.38      0.50         8\n",
      "    NBKaraca       0.33      0.12      0.18         8\n",
      "     NIlicak       0.33      0.25      0.29         8\n",
      "     SOzisik       0.88      0.88      0.88         8\n",
      "      TAkyol       0.33      0.12      0.18         8\n",
      "     YCongar       1.00      0.88      0.93         8\n",
      "      YOzdil       0.17      1.00      0.29         8\n",
      "\n",
      "    accuracy                           0.51       224\n",
      "   macro avg       0.58      0.51      0.51       224\n",
      "weighted avg       0.58      0.51      0.51       224\n",
      "\n"
     ]
    }
   ],
   "source": [
    "from sklearn.ensemble import RandomForestClassifier\n",
    "rf = RandomForestClassifier(n_estimators=100, random_state=42)\n",
    "rf.fit(X_train_2gram, y_train)\n",
    "print_result(\"Random Forest\", \"2-gram\", y_test, rf.predict(X_test_2gram))"
   ]
  },
  {
   "cell_type": "code",
   "execution_count": 39,
   "id": "a5e31dc8",
   "metadata": {},
   "outputs": [
    {
     "name": "stderr",
     "output_type": "stream",
     "text": [
      "C:\\Users\\YUCE037\\AppData\\Roaming\\Python\\Python312\\site-packages\\xgboost\\training.py:183: UserWarning: [21:21:26] WARNING: C:\\actions-runner\\_work\\xgboost\\xgboost\\src\\learner.cc:738: \n",
      "Parameters: { \"use_label_encoder\" } are not used.\n",
      "\n",
      "  bst.update(dtrain, iteration=i, fobj=obj)\n"
     ]
    },
    {
     "name": "stdout",
     "output_type": "stream",
     "text": [
      "\n",
      "📌 XGBoost | Feature: 2-gram\n",
      "Accuracy:  0.4062\n",
      "Precision: 0.4508\n",
      "Recall:    0.4062\n",
      "F1-score:  0.4054\n",
      "\n",
      "              precision    recall  f1-score   support\n",
      "\n",
      "      AAltan       0.50      0.25      0.33         8\n",
      "AAydintasbas       0.33      0.25      0.29         8\n",
      "      AHakan       0.44      0.50      0.47         8\n",
      " ATuranAlkan       0.50      0.75      0.60         8\n",
      "    AYArslan       0.67      0.75      0.71         8\n",
      "     BCoskun       0.12      0.38      0.19         8\n",
      "     CCandar       0.75      0.38      0.50         8\n",
      "    COzdemir       0.50      0.38      0.43         8\n",
      "  DCundioglu       1.00      0.75      0.86         8\n",
      "  DUAribogan       0.80      0.50      0.62         8\n",
      "      EArdic       0.14      0.12      0.13         8\n",
      "      ECakir       0.33      0.38      0.35         8\n",
      "    GGokturk       0.67      0.25      0.36         8\n",
      "   HBabaoglu       0.20      0.25      0.22         8\n",
      "      HCemal       0.00      0.00      0.00         8\n",
      "       HUluc       0.43      0.38      0.40         8\n",
      "  IKucukkaya       0.36      0.50      0.42         8\n",
      "    MABirand       0.80      0.50      0.62         8\n",
      "    MBaransu       0.50      0.25      0.33         8\n",
      "     MBarlas       0.67      0.75      0.71         8\n",
      "     MNHazar       0.20      0.25      0.22         8\n",
      "  MTonbekici       0.33      0.50      0.40         8\n",
      "    NBKaraca       0.25      0.12      0.17         8\n",
      "     NIlicak       0.20      0.12      0.15         8\n",
      "     SOzisik       0.33      0.25      0.29         8\n",
      "      TAkyol       0.25      0.25      0.25         8\n",
      "     YCongar       1.00      0.75      0.86         8\n",
      "      YOzdil       0.33      0.88      0.48         8\n",
      "\n",
      "    accuracy                           0.41       224\n",
      "   macro avg       0.45      0.41      0.41       224\n",
      "weighted avg       0.45      0.41      0.41       224\n",
      "\n"
     ]
    }
   ],
   "source": [
    "\n",
    "from xgboost import XGBClassifier\n",
    "xgb = XGBClassifier(use_label_encoder=False, eval_metric=\"mlogloss\", random_state=42)\n",
    "xgb.fit(X_train_2gram, y_train)\n",
    "print_result(\"XGBoost\", \"2-gram\", y_test, xgb.predict(X_test_2gram))"
   ]
  },
  {
   "cell_type": "code",
   "execution_count": 40,
   "id": "8a45cae0",
   "metadata": {},
   "outputs": [
    {
     "name": "stdout",
     "output_type": "stream",
     "text": [
      "\n",
      "📌 Naive Bayes | Feature: 2-gram\n",
      "Accuracy:  0.5625\n",
      "Precision: 0.5987\n",
      "Recall:    0.5625\n",
      "F1-score:  0.5313\n",
      "\n",
      "              precision    recall  f1-score   support\n",
      "\n",
      "      AAltan       0.64      0.88      0.74         8\n",
      "AAydintasbas       0.55      0.75      0.63         8\n",
      "      AHakan       0.64      0.88      0.74         8\n",
      " ATuranAlkan       0.29      0.25      0.27         8\n",
      "    AYArslan       0.67      1.00      0.80         8\n",
      "     BCoskun       1.00      0.12      0.22         8\n",
      "     CCandar       0.67      0.50      0.57         8\n",
      "    COzdemir       0.64      0.88      0.74         8\n",
      "  DCundioglu       0.70      0.88      0.78         8\n",
      "  DUAribogan       0.78      0.88      0.82         8\n",
      "      EArdic       0.40      0.25      0.31         8\n",
      "      ECakir       0.67      0.25      0.36         8\n",
      "    GGokturk       0.43      0.38      0.40         8\n",
      "   HBabaoglu       0.50      0.25      0.33         8\n",
      "      HCemal       0.67      0.50      0.57         8\n",
      "       HUluc       0.43      0.75      0.55         8\n",
      "  IKucukkaya       0.75      0.38      0.50         8\n",
      "    MABirand       0.53      1.00      0.70         8\n",
      "    MBaransu       1.00      0.88      0.93         8\n",
      "     MBarlas       1.00      0.50      0.67         8\n",
      "     MNHazar       0.71      0.62      0.67         8\n",
      "  MTonbekici       0.67      0.50      0.57         8\n",
      "    NBKaraca       0.00      0.00      0.00         8\n",
      "     NIlicak       0.00      0.00      0.00         8\n",
      "     SOzisik       0.70      0.88      0.78         8\n",
      "      TAkyol       0.50      0.38      0.43         8\n",
      "     YCongar       0.26      1.00      0.41         8\n",
      "      YOzdil       1.00      0.25      0.40         8\n",
      "\n",
      "    accuracy                           0.56       224\n",
      "   macro avg       0.60      0.56      0.53       224\n",
      "weighted avg       0.60      0.56      0.53       224\n",
      "\n"
     ]
    }
   ],
   "source": [
    "from sklearn.naive_bayes import MultinomialNB\n",
    "nb = MultinomialNB()\n",
    "nb.fit(X_train_2gram, y_train)\n",
    "print_result(\"Naive Bayes\", \"2-gram\", y_test, nb.predict(X_test_2gram))"
   ]
  },
  {
   "cell_type": "code",
   "execution_count": 41,
   "id": "5cbab344",
   "metadata": {},
   "outputs": [
    {
     "name": "stdout",
     "output_type": "stream",
     "text": [
      "\n",
      "📌 MLP | Feature: 2-gram\n",
      "Accuracy:  0.6295\n",
      "Precision: 0.6545\n",
      "Recall:    0.6295\n",
      "F1-score:  0.6179\n",
      "\n",
      "              precision    recall  f1-score   support\n",
      "\n",
      "      AAltan       0.54      0.88      0.67         8\n",
      "AAydintasbas       0.75      0.75      0.75         8\n",
      "      AHakan       0.67      0.75      0.71         8\n",
      " ATuranAlkan       1.00      0.25      0.40         8\n",
      "    AYArslan       0.80      1.00      0.89         8\n",
      "     BCoskun       0.50      0.25      0.33         8\n",
      "     CCandar       0.80      0.50      0.62         8\n",
      "    COzdemir       0.78      0.88      0.82         8\n",
      "  DCundioglu       0.88      0.88      0.88         8\n",
      "  DUAribogan       0.70      0.88      0.78         8\n",
      "      EArdic       0.45      0.62      0.53         8\n",
      "      ECakir       0.67      0.50      0.57         8\n",
      "    GGokturk       1.00      0.38      0.55         8\n",
      "   HBabaoglu       0.44      0.50      0.47         8\n",
      "      HCemal       0.45      0.62      0.53         8\n",
      "       HUluc       0.60      0.75      0.67         8\n",
      "  IKucukkaya       0.62      0.62      0.62         8\n",
      "    MABirand       0.67      1.00      0.80         8\n",
      "    MBaransu       1.00      0.75      0.86         8\n",
      "     MBarlas       0.80      0.50      0.62         8\n",
      "     MNHazar       0.55      0.75      0.63         8\n",
      "  MTonbekici       0.57      0.50      0.53         8\n",
      "    NBKaraca       0.25      0.25      0.25         8\n",
      "     NIlicak       0.20      0.12      0.15         8\n",
      "     SOzisik       0.88      0.88      0.88         8\n",
      "      TAkyol       0.44      0.50      0.47         8\n",
      "     YCongar       0.88      0.88      0.88         8\n",
      "      YOzdil       0.44      0.50      0.47         8\n",
      "\n",
      "    accuracy                           0.63       224\n",
      "   macro avg       0.65      0.63      0.62       224\n",
      "weighted avg       0.65      0.63      0.62       224\n",
      "\n"
     ]
    }
   ],
   "source": [
    "from sklearn.neural_network import MLPClassifier\n",
    "mlp = MLPClassifier(hidden_layer_sizes=(100,), max_iter=300)\n",
    "mlp.fit(X_train_2gram, y_train)\n",
    "print_result(\"MLP\", \"2-gram\", y_test, mlp.predict(X_test_2gram))"
   ]
  },
  {
   "cell_type": "code",
   "execution_count": 42,
   "id": "fa22630b",
   "metadata": {},
   "outputs": [
    {
     "name": "stdout",
     "output_type": "stream",
     "text": [
      "\n",
      "📌 Decision Tree | Feature: 2-gram\n",
      "Accuracy:  0.2455\n",
      "Precision: 0.2419\n",
      "Recall:    0.2455\n",
      "F1-score:  0.2308\n",
      "\n",
      "              precision    recall  f1-score   support\n",
      "\n",
      "      AAltan       0.00      0.00      0.00         8\n",
      "AAydintasbas       0.67      0.25      0.36         8\n",
      "      AHakan       0.40      0.50      0.44         8\n",
      " ATuranAlkan       0.22      0.25      0.24         8\n",
      "    AYArslan       0.43      0.38      0.40         8\n",
      "     BCoskun       0.00      0.00      0.00         8\n",
      "     CCandar       0.50      0.38      0.43         8\n",
      "    COzdemir       0.00      0.00      0.00         8\n",
      "  DCundioglu       0.75      0.75      0.75         8\n",
      "  DUAribogan       0.25      0.12      0.17         8\n",
      "      EArdic       0.20      0.12      0.15         8\n",
      "      ECakir       0.00      0.00      0.00         8\n",
      "    GGokturk       0.00      0.00      0.00         8\n",
      "   HBabaoglu       0.22      0.25      0.24         8\n",
      "      HCemal       0.20      0.12      0.15         8\n",
      "       HUluc       0.12      0.25      0.17         8\n",
      "  IKucukkaya       0.33      0.25      0.29         8\n",
      "    MABirand       0.36      0.50      0.42         8\n",
      "    MBaransu       0.19      0.38      0.25         8\n",
      "     MBarlas       0.50      0.50      0.50         8\n",
      "     MNHazar       0.00      0.00      0.00         8\n",
      "  MTonbekici       0.25      0.38      0.30         8\n",
      "    NBKaraca       0.00      0.00      0.00         8\n",
      "     NIlicak       0.00      0.00      0.00         8\n",
      "     SOzisik       0.12      0.12      0.12         8\n",
      "      TAkyol       0.20      0.12      0.15         8\n",
      "     YCongar       0.50      0.38      0.43         8\n",
      "      YOzdil       0.35      0.88      0.50         8\n",
      "\n",
      "    accuracy                           0.25       224\n",
      "   macro avg       0.24      0.25      0.23       224\n",
      "weighted avg       0.24      0.25      0.23       224\n",
      "\n"
     ]
    }
   ],
   "source": [
    "from sklearn.tree import DecisionTreeClassifier\n",
    "tree = DecisionTreeClassifier(random_state=42)\n",
    "tree.fit(X_train_2gram, y_train)\n",
    "print_result(\"Decision Tree\", \"2-gram\", y_test, tree.predict(X_test_2gram))\n"
   ]
  },
  {
   "cell_type": "code",
   "execution_count": 43,
   "id": "f3d5e9b3",
   "metadata": {},
   "outputs": [
    {
     "name": "stdout",
     "output_type": "stream",
     "text": [
      "\n",
      "📌 SVM | Feature: 3-gram\n",
      "Accuracy:  0.3482\n",
      "Precision: 0.3785\n",
      "Recall:    0.3482\n",
      "F1-score:  0.3519\n",
      "\n",
      "              precision    recall  f1-score   support\n",
      "\n",
      "      AAltan       0.43      0.38      0.40         8\n",
      "AAydintasbas       0.71      0.62      0.67         8\n",
      "      AHakan       0.38      0.38      0.38         8\n",
      " ATuranAlkan       0.00      0.00      0.00         8\n",
      "    AYArslan       0.78      0.88      0.82         8\n",
      "     BCoskun       0.22      0.50      0.31         8\n",
      "     CCandar       0.25      0.12      0.17         8\n",
      "    COzdemir       0.50      0.38      0.43         8\n",
      "  DCundioglu       0.83      0.62      0.71         8\n",
      "  DUAribogan       0.67      0.75      0.71         8\n",
      "      EArdic       0.50      0.25      0.33         8\n",
      "      ECakir       0.11      0.12      0.12         8\n",
      "    GGokturk       0.25      0.12      0.17         8\n",
      "   HBabaoglu       0.17      0.38      0.23         8\n",
      "      HCemal       0.40      0.25      0.31         8\n",
      "       HUluc       0.25      0.25      0.25         8\n",
      "  IKucukkaya       0.40      0.25      0.31         8\n",
      "    MABirand       0.57      0.50      0.53         8\n",
      "    MBaransu       0.45      0.62      0.53         8\n",
      "     MBarlas       0.40      0.50      0.44         8\n",
      "     MNHazar       0.25      0.25      0.25         8\n",
      "  MTonbekici       0.12      0.12      0.12         8\n",
      "    NBKaraca       0.09      0.12      0.11         8\n",
      "     NIlicak       0.11      0.12      0.12         8\n",
      "     SOzisik       0.50      0.38      0.43         8\n",
      "      TAkyol       0.25      0.25      0.25         8\n",
      "     YCongar       1.00      0.62      0.77         8\n",
      "      YOzdil       0.00      0.00      0.00         8\n",
      "\n",
      "    accuracy                           0.35       224\n",
      "   macro avg       0.38      0.35      0.35       224\n",
      "weighted avg       0.38      0.35      0.35       224\n",
      "\n"
     ]
    }
   ],
   "source": [
    "svm.fit(X_train_3gram, y_train)\n",
    "print_result(\"SVM\", \"3-gram\", y_test, svm.predict(X_test_3gram))"
   ]
  },
  {
   "cell_type": "code",
   "execution_count": 44,
   "id": "afffac09",
   "metadata": {},
   "outputs": [
    {
     "name": "stdout",
     "output_type": "stream",
     "text": [
      "\n",
      "📌 Random Forest | Feature: 3-gram\n",
      "Accuracy:  0.1607\n",
      "Precision: 0.3297\n",
      "Recall:    0.1607\n",
      "F1-score:  0.1722\n",
      "\n",
      "              precision    recall  f1-score   support\n",
      "\n",
      "      AAltan       1.00      0.12      0.22         8\n",
      "AAydintasbas       0.50      0.12      0.20         8\n",
      "      AHakan       1.00      0.12      0.22         8\n",
      " ATuranAlkan       0.00      0.00      0.00         8\n",
      "    AYArslan       1.00      0.50      0.67         8\n",
      "     BCoskun       0.25      0.12      0.17         8\n",
      "     CCandar       0.00      0.00      0.00         8\n",
      "    COzdemir       0.33      0.25      0.29         8\n",
      "  DCundioglu       0.50      0.38      0.43         8\n",
      "  DUAribogan       0.50      0.25      0.33         8\n",
      "      EArdic       0.00      0.00      0.00         8\n",
      "      ECakir       0.00      0.00      0.00         8\n",
      "    GGokturk       0.00      0.00      0.00         8\n",
      "   HBabaoglu       0.20      0.12      0.15         8\n",
      "      HCemal       0.00      0.00      0.00         8\n",
      "       HUluc       0.33      0.12      0.18         8\n",
      "  IKucukkaya       0.00      0.00      0.00         8\n",
      "    MABirand       1.00      0.25      0.40         8\n",
      "    MBaransu       0.67      0.25      0.36         8\n",
      "     MBarlas       0.50      0.12      0.20         8\n",
      "     MNHazar       0.14      0.25      0.18         8\n",
      "  MTonbekici       0.00      0.00      0.00         8\n",
      "    NBKaraca       0.00      0.00      0.00         8\n",
      "     NIlicak       0.00      0.00      0.00         8\n",
      "     SOzisik       0.25      0.12      0.17         8\n",
      "      TAkyol       0.00      0.00      0.00         8\n",
      "     YCongar       1.00      0.38      0.55         8\n",
      "      YOzdil       0.05      1.00      0.10         8\n",
      "\n",
      "    accuracy                           0.16       224\n",
      "   macro avg       0.33      0.16      0.17       224\n",
      "weighted avg       0.33      0.16      0.17       224\n",
      "\n"
     ]
    },
    {
     "name": "stderr",
     "output_type": "stream",
     "text": [
      "C:\\Users\\YUCE037\\AppData\\Roaming\\Python\\Python312\\site-packages\\sklearn\\metrics\\_classification.py:1531: UndefinedMetricWarning: Precision is ill-defined and being set to 0.0 in labels with no predicted samples. Use `zero_division` parameter to control this behavior.\n",
      "  _warn_prf(average, modifier, f\"{metric.capitalize()} is\", len(result))\n",
      "C:\\Users\\YUCE037\\AppData\\Roaming\\Python\\Python312\\site-packages\\sklearn\\metrics\\_classification.py:1531: UndefinedMetricWarning: Precision is ill-defined and being set to 0.0 in labels with no predicted samples. Use `zero_division` parameter to control this behavior.\n",
      "  _warn_prf(average, modifier, f\"{metric.capitalize()} is\", len(result))\n",
      "C:\\Users\\YUCE037\\AppData\\Roaming\\Python\\Python312\\site-packages\\sklearn\\metrics\\_classification.py:1531: UndefinedMetricWarning: Precision is ill-defined and being set to 0.0 in labels with no predicted samples. Use `zero_division` parameter to control this behavior.\n",
      "  _warn_prf(average, modifier, f\"{metric.capitalize()} is\", len(result))\n",
      "C:\\Users\\YUCE037\\AppData\\Roaming\\Python\\Python312\\site-packages\\sklearn\\metrics\\_classification.py:1531: UndefinedMetricWarning: Precision is ill-defined and being set to 0.0 in labels with no predicted samples. Use `zero_division` parameter to control this behavior.\n",
      "  _warn_prf(average, modifier, f\"{metric.capitalize()} is\", len(result))\n"
     ]
    }
   ],
   "source": [
    "rf.fit(X_train_3gram, y_train)\n",
    "print_result(\"Random Forest\", \"3-gram\", y_test, rf.predict(X_test_3gram))"
   ]
  },
  {
   "cell_type": "code",
   "execution_count": 45,
   "id": "ed5aaac5",
   "metadata": {},
   "outputs": [
    {
     "name": "stderr",
     "output_type": "stream",
     "text": [
      "C:\\Users\\YUCE037\\AppData\\Roaming\\Python\\Python312\\site-packages\\xgboost\\training.py:183: UserWarning: [21:22:08] WARNING: C:\\actions-runner\\_work\\xgboost\\xgboost\\src\\learner.cc:738: \n",
      "Parameters: { \"use_label_encoder\" } are not used.\n",
      "\n",
      "  bst.update(dtrain, iteration=i, fobj=obj)\n"
     ]
    },
    {
     "name": "stdout",
     "output_type": "stream",
     "text": [
      "\n",
      "📌 XGBoost | Feature: 3-gram\n",
      "Accuracy:  0.1295\n",
      "Precision: 0.1878\n",
      "Recall:    0.1295\n",
      "F1-score:  0.1205\n",
      "\n",
      "              precision    recall  f1-score   support\n",
      "\n",
      "      AAltan       0.17      0.12      0.14         8\n",
      "AAydintasbas       0.00      0.00      0.00         8\n",
      "      AHakan       0.33      0.12      0.18         8\n",
      " ATuranAlkan       0.00      0.00      0.00         8\n",
      "    AYArslan       0.43      0.38      0.40         8\n",
      "     BCoskun       0.00      0.00      0.00         8\n",
      "     CCandar       0.00      0.00      0.00         8\n",
      "    COzdemir       0.40      0.25      0.31         8\n",
      "  DCundioglu       0.33      0.25      0.29         8\n",
      "  DUAribogan       0.25      0.12      0.17         8\n",
      "      EArdic       0.00      0.00      0.00         8\n",
      "      ECakir       0.00      0.00      0.00         8\n",
      "    GGokturk       0.33      0.12      0.18         8\n",
      "   HBabaoglu       0.00      0.00      0.00         8\n",
      "      HCemal       0.20      0.12      0.15         8\n",
      "       HUluc       0.00      0.00      0.00         8\n",
      "  IKucukkaya       0.00      0.00      0.00         8\n",
      "    MABirand       0.00      0.00      0.00         8\n",
      "    MBaransu       0.60      0.38      0.46         8\n",
      "     MBarlas       1.00      0.12      0.22         8\n",
      "     MNHazar       0.07      0.12      0.09         8\n",
      "  MTonbekici       0.00      0.00      0.00         8\n",
      "    NBKaraca       0.06      0.12      0.08         8\n",
      "     NIlicak       0.00      0.00      0.00         8\n",
      "     SOzisik       0.00      0.00      0.00         8\n",
      "      TAkyol       0.00      0.00      0.00         8\n",
      "     YCongar       1.00      0.38      0.55         8\n",
      "      YOzdil       0.08      1.00      0.16         8\n",
      "\n",
      "    accuracy                           0.13       224\n",
      "   macro avg       0.19      0.13      0.12       224\n",
      "weighted avg       0.19      0.13      0.12       224\n",
      "\n"
     ]
    }
   ],
   "source": [
    "xgb.fit(X_train_3gram, y_train)\n",
    "print_result(\"XGBoost\", \"3-gram\", y_test, xgb.predict(X_test_3gram))"
   ]
  },
  {
   "cell_type": "code",
   "execution_count": 46,
   "id": "9ea633cf",
   "metadata": {},
   "outputs": [
    {
     "name": "stdout",
     "output_type": "stream",
     "text": [
      "\n",
      "📌 Naive Bayes | Feature: 3-gram\n",
      "Accuracy:  0.3393\n",
      "Precision: 0.3534\n",
      "Recall:    0.3393\n",
      "F1-score:  0.3248\n",
      "\n",
      "              precision    recall  f1-score   support\n",
      "\n",
      "      AAltan       0.13      0.25      0.17         8\n",
      "AAydintasbas       0.42      0.62      0.50         8\n",
      "      AHakan       0.30      0.38      0.33         8\n",
      " ATuranAlkan       0.00      0.00      0.00         8\n",
      "    AYArslan       0.73      1.00      0.84         8\n",
      "     BCoskun       0.25      0.12      0.17         8\n",
      "     CCandar       0.43      0.38      0.40         8\n",
      "    COzdemir       0.27      0.38      0.32         8\n",
      "  DCundioglu       0.55      0.75      0.63         8\n",
      "  DUAribogan       0.75      0.75      0.75         8\n",
      "      EArdic       1.00      0.25      0.40         8\n",
      "      ECakir       0.20      0.12      0.15         8\n",
      "    GGokturk       0.20      0.12      0.15         8\n",
      "   HBabaoglu       0.15      0.25      0.19         8\n",
      "      HCemal       0.33      0.25      0.29         8\n",
      "       HUluc       0.20      0.12      0.15         8\n",
      "  IKucukkaya       1.00      0.38      0.55         8\n",
      "    MABirand       0.42      0.62      0.50         8\n",
      "    MBaransu       0.30      0.38      0.33         8\n",
      "     MBarlas       0.50      0.38      0.43         8\n",
      "     MNHazar       0.18      0.25      0.21         8\n",
      "  MTonbekici       0.17      0.12      0.14         8\n",
      "    NBKaraca       0.14      0.12      0.13         8\n",
      "     NIlicak       0.17      0.12      0.14         8\n",
      "     SOzisik       0.27      0.38      0.32         8\n",
      "      TAkyol       0.20      0.12      0.15         8\n",
      "     YCongar       0.64      0.88      0.74         8\n",
      "      YOzdil       0.00      0.00      0.00         8\n",
      "\n",
      "    accuracy                           0.34       224\n",
      "   macro avg       0.35      0.34      0.32       224\n",
      "weighted avg       0.35      0.34      0.32       224\n",
      "\n"
     ]
    }
   ],
   "source": [
    "nb.fit(X_train_3gram, y_train)\n",
    "print_result(\"Naive Bayes\", \"3-gram\", y_test, nb.predict(X_test_3gram))"
   ]
  },
  {
   "cell_type": "code",
   "execution_count": 47,
   "id": "641b21a7",
   "metadata": {},
   "outputs": [
    {
     "name": "stdout",
     "output_type": "stream",
     "text": [
      "\n",
      "📌 MLP | Feature: 3-gram\n",
      "Accuracy:  0.2321\n",
      "Precision: 0.5032\n",
      "Recall:    0.2321\n",
      "F1-score:  0.2850\n",
      "\n",
      "              precision    recall  f1-score   support\n",
      "\n",
      "      AAltan       0.50      0.12      0.20         8\n",
      "AAydintasbas       1.00      0.25      0.40         8\n",
      "      AHakan       0.67      0.25      0.36         8\n",
      " ATuranAlkan       0.00      0.00      0.00         8\n",
      "    AYArslan       1.00      0.62      0.77         8\n",
      "     BCoskun       0.06      0.25      0.10         8\n",
      "     CCandar       1.00      0.38      0.55         8\n",
      "    COzdemir       0.67      0.25      0.36         8\n",
      "  DCundioglu       1.00      0.62      0.77         8\n",
      "  DUAribogan       0.67      0.25      0.36         8\n",
      "      EArdic       0.50      0.12      0.20         8\n",
      "      ECakir       0.00      0.00      0.00         8\n",
      "    GGokturk       0.00      0.00      0.00         8\n",
      "   HBabaoglu       0.50      0.25      0.33         8\n",
      "      HCemal       0.50      0.12      0.20         8\n",
      "       HUluc       0.25      0.12      0.17         8\n",
      "  IKucukkaya       0.50      0.12      0.20         8\n",
      "    MABirand       1.00      0.50      0.67         8\n",
      "    MBaransu       0.67      0.25      0.36         8\n",
      "     MBarlas       0.40      0.25      0.31         8\n",
      "     MNHazar       0.67      0.25      0.36         8\n",
      "  MTonbekici       0.00      0.00      0.00         8\n",
      "    NBKaraca       0.25      0.12      0.17         8\n",
      "     NIlicak       0.00      0.00      0.00         8\n",
      "     SOzisik       1.00      0.12      0.22         8\n",
      "      TAkyol       0.25      0.12      0.17         8\n",
      "     YCongar       1.00      0.50      0.67         8\n",
      "      YOzdil       0.05      0.62      0.08         8\n",
      "\n",
      "    accuracy                           0.23       224\n",
      "   macro avg       0.50      0.23      0.29       224\n",
      "weighted avg       0.50      0.23      0.29       224\n",
      "\n"
     ]
    },
    {
     "name": "stderr",
     "output_type": "stream",
     "text": [
      "C:\\Users\\YUCE037\\AppData\\Roaming\\Python\\Python312\\site-packages\\sklearn\\metrics\\_classification.py:1531: UndefinedMetricWarning: Precision is ill-defined and being set to 0.0 in labels with no predicted samples. Use `zero_division` parameter to control this behavior.\n",
      "  _warn_prf(average, modifier, f\"{metric.capitalize()} is\", len(result))\n",
      "C:\\Users\\YUCE037\\AppData\\Roaming\\Python\\Python312\\site-packages\\sklearn\\metrics\\_classification.py:1531: UndefinedMetricWarning: Precision is ill-defined and being set to 0.0 in labels with no predicted samples. Use `zero_division` parameter to control this behavior.\n",
      "  _warn_prf(average, modifier, f\"{metric.capitalize()} is\", len(result))\n",
      "C:\\Users\\YUCE037\\AppData\\Roaming\\Python\\Python312\\site-packages\\sklearn\\metrics\\_classification.py:1531: UndefinedMetricWarning: Precision is ill-defined and being set to 0.0 in labels with no predicted samples. Use `zero_division` parameter to control this behavior.\n",
      "  _warn_prf(average, modifier, f\"{metric.capitalize()} is\", len(result))\n",
      "C:\\Users\\YUCE037\\AppData\\Roaming\\Python\\Python312\\site-packages\\sklearn\\metrics\\_classification.py:1531: UndefinedMetricWarning: Precision is ill-defined and being set to 0.0 in labels with no predicted samples. Use `zero_division` parameter to control this behavior.\n",
      "  _warn_prf(average, modifier, f\"{metric.capitalize()} is\", len(result))\n"
     ]
    }
   ],
   "source": [
    "mlp.fit(X_train_3gram, y_train)\n",
    "print_result(\"MLP\", \"3-gram\", y_test, mlp.predict(X_test_3gram))"
   ]
  },
  {
   "cell_type": "code",
   "execution_count": 48,
   "id": "c0feed5e",
   "metadata": {},
   "outputs": [
    {
     "name": "stdout",
     "output_type": "stream",
     "text": [
      "\n",
      "📌 Decision Tree | Feature: 3-gram\n",
      "Accuracy:  0.1786\n",
      "Precision: 0.2555\n",
      "Recall:    0.1786\n",
      "F1-score:  0.1772\n",
      "\n",
      "              precision    recall  f1-score   support\n",
      "\n",
      "      AAltan       0.50      0.25      0.33         8\n",
      "AAydintasbas       1.00      0.12      0.22         8\n",
      "      AHakan       1.00      0.25      0.40         8\n",
      " ATuranAlkan       0.09      0.12      0.11         8\n",
      "    AYArslan       0.75      0.38      0.50         8\n",
      "     BCoskun       0.00      0.00      0.00         8\n",
      "     CCandar       0.00      0.00      0.00         8\n",
      "    COzdemir       0.18      0.25      0.21         8\n",
      "  DCundioglu       0.67      0.50      0.57         8\n",
      "  DUAribogan       0.33      0.38      0.35         8\n",
      "      EArdic       0.00      0.00      0.00         8\n",
      "      ECakir       0.00      0.00      0.00         8\n",
      "    GGokturk       0.50      0.25      0.33         8\n",
      "   HBabaoglu       0.00      0.00      0.00         8\n",
      "      HCemal       0.00      0.00      0.00         8\n",
      "       HUluc       0.14      0.12      0.13         8\n",
      "  IKucukkaya       0.00      0.00      0.00         8\n",
      "    MABirand       0.43      0.38      0.40         8\n",
      "    MBaransu       0.33      0.25      0.29         8\n",
      "     MBarlas       0.14      0.12      0.13         8\n",
      "     MNHazar       0.20      0.25      0.22         8\n",
      "  MTonbekici       0.00      0.00      0.00         8\n",
      "    NBKaraca       0.00      0.00      0.00         8\n",
      "     NIlicak       0.00      0.00      0.00         8\n",
      "     SOzisik       0.12      0.12      0.12         8\n",
      "      TAkyol       0.33      0.12      0.18         8\n",
      "     YCongar       0.33      0.25      0.29         8\n",
      "      YOzdil       0.09      0.88      0.16         8\n",
      "\n",
      "    accuracy                           0.18       224\n",
      "   macro avg       0.26      0.18      0.18       224\n",
      "weighted avg       0.26      0.18      0.18       224\n",
      "\n"
     ]
    },
    {
     "name": "stderr",
     "output_type": "stream",
     "text": [
      "C:\\Users\\YUCE037\\AppData\\Roaming\\Python\\Python312\\site-packages\\sklearn\\metrics\\_classification.py:1531: UndefinedMetricWarning: Precision is ill-defined and being set to 0.0 in labels with no predicted samples. Use `zero_division` parameter to control this behavior.\n",
      "  _warn_prf(average, modifier, f\"{metric.capitalize()} is\", len(result))\n",
      "C:\\Users\\YUCE037\\AppData\\Roaming\\Python\\Python312\\site-packages\\sklearn\\metrics\\_classification.py:1531: UndefinedMetricWarning: Precision is ill-defined and being set to 0.0 in labels with no predicted samples. Use `zero_division` parameter to control this behavior.\n",
      "  _warn_prf(average, modifier, f\"{metric.capitalize()} is\", len(result))\n",
      "C:\\Users\\YUCE037\\AppData\\Roaming\\Python\\Python312\\site-packages\\sklearn\\metrics\\_classification.py:1531: UndefinedMetricWarning: Precision is ill-defined and being set to 0.0 in labels with no predicted samples. Use `zero_division` parameter to control this behavior.\n",
      "  _warn_prf(average, modifier, f\"{metric.capitalize()} is\", len(result))\n",
      "C:\\Users\\YUCE037\\AppData\\Roaming\\Python\\Python312\\site-packages\\sklearn\\metrics\\_classification.py:1531: UndefinedMetricWarning: Precision is ill-defined and being set to 0.0 in labels with no predicted samples. Use `zero_division` parameter to control this behavior.\n",
      "  _warn_prf(average, modifier, f\"{metric.capitalize()} is\", len(result))\n"
     ]
    }
   ],
   "source": [
    "tree.fit(X_train_3gram, y_train)\n",
    "print_result(\"Decision Tree\", \"3-gram\", y_test, tree.predict(X_test_3gram))"
   ]
  },
  {
   "cell_type": "code",
   "execution_count": 49,
   "id": "f8a8257f",
   "metadata": {},
   "outputs": [
    {
     "data": {
      "image/png": "[encoded data removed]",
      "text/plain": [
       "<Figure size 1200x600 with 1 Axes>"
      ]
     },
     "metadata": {},
     "output_type": "display_data"
    }
   ],
   "source": [
    "results_df = pd.DataFrame(results)\n",
    "plt.figure(figsize=(12, 6))\n",
    "sns.barplot(data=results_df, x=\"model\", y=\"accuracy\", hue=\"feature\")\n",
    "plt.title(\"Accuracy by Model and Feature Type\")\n",
    "plt.xticks(rotation=45)\n",
    "plt.tight_layout()\n",
    "plt.show()\n"
   ]
  },
  {
   "cell_type": "markdown",
   "id": "308593b9",
   "metadata": {},
   "source": [
    "MAX FEATURES ARTTIRILDI SONUÇ DAHA İYİ ŞU AN AYNI ZAMANDA STOP WORDSLER KALDIRILDI "
   ]
  },
  {
   "cell_type": "code",
   "execution_count": null,
   "id": "347d9fba",
   "metadata": {},
   "outputs": [],
   "source": []
  }
 ],
 "metadata": {
  "kernelspec": {
   "display_name": "Python 3",
   "language": "python",
   "name": "python3"
  },
  "language_info": {
   "codemirror_mode": {
    "name": "ipython",
    "version": 3
   },
   "file_extension": ".py",
   "mimetype": "text/x-python",
   "name": "python",
   "nbconvert_exporter": "python",
   "pygments_lexer": "ipython3",
   "version": "3.12.1"
  }
 },
 "nbformat": 4,
 "nbformat_minor": 5
}
